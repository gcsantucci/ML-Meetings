{
 "cells": [
  {
   "cell_type": "markdown",
   "metadata": {},
   "source": [
    "# Aula 1 - Basics\n",
    "#### 28/08/2020\n",
    "\n",
    "- Operacoes\n",
    "- Variaveis\n",
    "- Tipos de variaveis\n",
    "- lists\n",
    "- for loop\n",
    "- if/else statements\n",
    "- reading data from a file"
   ]
  },
  {
   "cell_type": "markdown",
   "metadata": {},
   "source": [
    "## Operacoes e Data Types\n",
    "\n",
    "### Numeros\n",
    "\n",
    "Python sabe lidar com as 4 operacoes basicas da matematica:\n",
    "- adicao\n",
    "- subtracao\n",
    "- multiplicacao\n",
    "- divisao"
   ]
  },
  {
   "cell_type": "code",
   "execution_count": 1,
   "metadata": {},
   "outputs": [
    {
     "name": "stdout",
     "output_type": "stream",
     "text": [
      "8\n"
     ]
    }
   ],
   "source": [
    "# adicao:\n",
    "print(3 + 5)"
   ]
  },
  {
   "cell_type": "code",
   "execution_count": 2,
   "metadata": {},
   "outputs": [
    {
     "name": "stdout",
     "output_type": "stream",
     "text": [
      "-5\n"
     ]
    }
   ],
   "source": [
    "# subtracao:\n",
    "print(4 - 9)"
   ]
  },
  {
   "cell_type": "code",
   "execution_count": 3,
   "metadata": {},
   "outputs": [
    {
     "name": "stdout",
     "output_type": "stream",
     "text": [
      "42\n"
     ]
    }
   ],
   "source": [
    "# multiplicacao:\n",
    "print(2 * 21)"
   ]
  },
  {
   "cell_type": "code",
   "execution_count": 4,
   "metadata": {},
   "outputs": [
    {
     "name": "stdout",
     "output_type": "stream",
     "text": [
      "5.0\n"
     ]
    }
   ],
   "source": [
    "# divisao:\n",
    "print(10 / 2)"
   ]
  },
  {
   "cell_type": "markdown",
   "metadata": {},
   "source": [
    "Aqui nesse ultimo exemplos, vimos que o resultado de uma divisao em python3 é sempre interpretada um 'float'.    \n",
    "Se quisermos que o resultado seja necessariamente um inteiro ('int') podemos usar o operador //"
   ]
  },
  {
   "cell_type": "code",
   "execution_count": 5,
   "metadata": {},
   "outputs": [
    {
     "name": "stdout",
     "output_type": "stream",
     "text": [
      "5.0\n",
      "5\n",
      "4.5\n",
      "4\n"
     ]
    }
   ],
   "source": [
    "print(10 / 2)\n",
    "print(10 // 2)\n",
    "\n",
    "print(9 / 2)\n",
    "print(9 // 2)"
   ]
  },
  {
   "cell_type": "markdown",
   "metadata": {},
   "source": [
    "Somenta a parte inteira do numero resta apos a divisao, o que vem depois do ponto decimal é ignorado.\n",
    "\n",
    "Outra alternativa era usar *type casting* e transformar o resultado em *int*:"
   ]
  },
  {
   "cell_type": "code",
   "execution_count": 6,
   "metadata": {},
   "outputs": [
    {
     "name": "stdout",
     "output_type": "stream",
     "text": [
      "5\n",
      "4\n"
     ]
    }
   ],
   "source": [
    "print(int(10 / 2))\n",
    "print(int(9 / 2))"
   ]
  },
  {
   "cell_type": "markdown",
   "metadata": {},
   "source": [
    "Python tambem sabe lidar com notacao cientifica e numeros complexos. Este ultimo é usado somente em aplciacoes mais especificas e cientificas. Mas notacao cientifica pode ser bastante util para lidar com numeros grandes.\n",
    "\n",
    "A sintaxe é NeE, onde N é o numero que vai ser multiplicado pela base 10 e E é o expoente da base 10.    \n",
    "A letra e é a letra e mesmo, ou seja, 1,000,000 (1 seguido de 6 zeros) por exemplo pode ser escrito como:"
   ]
  },
  {
   "cell_type": "code",
   "execution_count": 7,
   "metadata": {},
   "outputs": [
    {
     "name": "stdout",
     "output_type": "stream",
     "text": [
      "1000000\n",
      "1000000.0\n"
     ]
    }
   ],
   "source": [
    "print(1000000)\n",
    "print(1e6)"
   ]
  },
  {
   "cell_type": "markdown",
   "metadata": {},
   "source": [
    "Note que em notacao cientifica, um numero é sempre tratado como 'float':"
   ]
  },
  {
   "cell_type": "code",
   "execution_count": 8,
   "metadata": {},
   "outputs": [
    {
     "data": {
      "text/plain": [
       "int"
      ]
     },
     "execution_count": 8,
     "metadata": {},
     "output_type": "execute_result"
    }
   ],
   "source": [
    "type(1000)"
   ]
  },
  {
   "cell_type": "code",
   "execution_count": 9,
   "metadata": {},
   "outputs": [
    {
     "data": {
      "text/plain": [
       "float"
      ]
     },
     "execution_count": 9,
     "metadata": {},
     "output_type": "execute_result"
    }
   ],
   "source": [
    "type(1e3)"
   ]
  },
  {
   "cell_type": "markdown",
   "metadata": {},
   "source": [
    "O numero na frente do 'e' nao precisa ser inteiro, nem entre 0 e 10, python vai lidar com a multiplicacao sem problemas.\n",
    "\n",
    "O expoente pode inclusive ser negativo, como esperado:"
   ]
  },
  {
   "cell_type": "code",
   "execution_count": 10,
   "metadata": {},
   "outputs": [
    {
     "name": "stdout",
     "output_type": "stream",
     "text": [
      "2700.0\n",
      "1190.0\n",
      "0.1\n",
      "0.0125\n"
     ]
    }
   ],
   "source": [
    "# floats vezes base 10:\n",
    "print(2.7e3)\n",
    "print(11.9e2)\n",
    "\n",
    "# expoentes negativos:\n",
    "print(1e-1)\n",
    "print(12.5e-3)"
   ]
  },
  {
   "cell_type": "markdown",
   "metadata": {},
   "source": [
    "Assim como na matematica, multiplicacao e divisao tem prioridade sobre soma e subtracao:"
   ]
  },
  {
   "cell_type": "code",
   "execution_count": 11,
   "metadata": {},
   "outputs": [
    {
     "name": "stdout",
     "output_type": "stream",
     "text": [
      "17\n"
     ]
    }
   ],
   "source": [
    "print(2 + 3 * 5)"
   ]
  },
  {
   "cell_type": "markdown",
   "metadata": {},
   "source": [
    "Como é muito facil cometer um erro desta maneira, somos aconselhados a sempre colocar parenteses \n",
    "para forcar o python a fazer a conta na ordem desejada:"
   ]
  },
  {
   "cell_type": "code",
   "execution_count": 12,
   "metadata": {},
   "outputs": [
    {
     "name": "stdout",
     "output_type": "stream",
     "text": [
      "17\n",
      "25\n"
     ]
    }
   ],
   "source": [
    "print(     2 + (3 * 5)      )\n",
    "print(    (2 + 3) * 5     )"
   ]
  },
  {
   "cell_type": "markdown",
   "metadata": {},
   "source": [
    "Finalmente , vimos rapidamente tambem o operador modulo % que guarda somente o resto de uma divisao:"
   ]
  },
  {
   "cell_type": "code",
   "execution_count": 13,
   "metadata": {},
   "outputs": [
    {
     "name": "stdout",
     "output_type": "stream",
     "text": [
      "0\n",
      "0\n",
      "1\n",
      "2\n",
      "0\n",
      "4\n",
      "3\n",
      "2\n",
      "1\n",
      "0\n",
      "10\n"
     ]
    }
   ],
   "source": [
    "print( 10 % 1 )\n",
    "print( 10 % 2 )\n",
    "print( 10 % 3 )\n",
    "print( 10 % 4 )\n",
    "print( 10 % 5 )\n",
    "print( 10 % 6 )\n",
    "print( 10 % 7 )\n",
    "print( 10 % 8 )\n",
    "print( 10 % 9 )\n",
    "print( 10 % 10 )\n",
    "print( 10 % 11 )"
   ]
  },
  {
   "cell_type": "markdown",
   "metadata": {},
   "source": [
    "### Strings\n",
    "\n",
    "Vimos tambem que python pode manejar palavras num novo tipo de dado (*data type*) chamado *string*.    \n",
    "Strings podem ser somadas para concatena-las e multiplicadas para repeti-las.    \n",
    "\n",
    "Strings e numeros nao podem ser misturados numa operacao, mas se uma string for puramente numerica, ela pode ser transformada em numero atraves do *type castinng* int().\n",
    "\n",
    "Qualquer numero pode ser transformado em string atraves do *type casting* str():"
   ]
  },
  {
   "cell_type": "code",
   "execution_count": 14,
   "metadata": {},
   "outputs": [
    {
     "name": "stdout",
     "output_type": "stream",
     "text": [
      "Hello World\n",
      "PeterParker\n",
      "JJWatson\n"
     ]
    }
   ],
   "source": [
    "print('Hello World')\n",
    "print('Peter' + 'Parker')\n",
    "print('J' * 2 + 'Watson')"
   ]
  },
  {
   "cell_type": "code",
   "execution_count": 15,
   "metadata": {},
   "outputs": [
    {
     "ename": "TypeError",
     "evalue": "can only concatenate str (not \"int\") to str",
     "output_type": "error",
     "traceback": [
      "\u001b[0;31m---------------------------------------------------------------------------\u001b[0m",
      "\u001b[0;31mTypeError\u001b[0m                                 Traceback (most recent call last)",
      "\u001b[0;32m<ipython-input-15-ca278c9f0f04>\u001b[0m in \u001b[0;36m<module>\u001b[0;34m\u001b[0m\n\u001b[0;32m----> 1\u001b[0;31m \u001b[0mprint\u001b[0m\u001b[0;34m(\u001b[0m\u001b[0;34m'10'\u001b[0m \u001b[0;34m+\u001b[0m \u001b[0;36m5\u001b[0m\u001b[0;34m)\u001b[0m\u001b[0;34m\u001b[0m\u001b[0;34m\u001b[0m\u001b[0m\n\u001b[0m",
      "\u001b[0;31mTypeError\u001b[0m: can only concatenate str (not \"int\") to str"
     ]
    }
   ],
   "source": [
    "print('10' + 5)"
   ]
  },
  {
   "cell_type": "code",
   "execution_count": 16,
   "metadata": {},
   "outputs": [
    {
     "name": "stdout",
     "output_type": "stream",
     "text": [
      "15\n"
     ]
    }
   ],
   "source": [
    "print(int('10') + 5)"
   ]
  },
  {
   "cell_type": "code",
   "execution_count": 17,
   "metadata": {},
   "outputs": [
    {
     "data": {
      "text/plain": [
       "str"
      ]
     },
     "execution_count": 17,
     "metadata": {},
     "output_type": "execute_result"
    }
   ],
   "source": [
    "type(str(3.14159))"
   ]
  },
  {
   "cell_type": "markdown",
   "metadata": {},
   "source": [
    "## Variaveis\n",
    "\n",
    "Vimos que variaveis guardam algum tipo de informacao que pode ser facilmente acessada depois.    \n",
    "\n",
    "Tudo que vimos acima pode ser aplicado com variaveis, ou seja, elas podem guardar dados tipo *int*, *float* ou *str*. Entre outros que vamos ver depois."
   ]
  },
  {
   "cell_type": "code",
   "execution_count": 18,
   "metadata": {},
   "outputs": [],
   "source": [
    "ovos = 5\n",
    "farinha = 2 * ovos\n",
    "leite = ovos / 2"
   ]
  },
  {
   "cell_type": "code",
   "execution_count": 19,
   "metadata": {},
   "outputs": [
    {
     "name": "stdout",
     "output_type": "stream",
     "text": [
      "5\n",
      "10\n",
      "2\n"
     ]
    }
   ],
   "source": [
    "print(ovos)\n",
    "print(farinha)\n",
    "print(int(leite))"
   ]
  },
  {
   "cell_type": "markdown",
   "metadata": {},
   "source": [
    "Se usarmos o mesmo nome de variavel para armazenar outro valor, ela perdera o valor anterior, entao é necessario tomar cuidado para nao usar o mesmo nome para coisas diferentes.\n",
    "\n",
    "Operacoes com variaveis sao identicas as operacoes com os dados diretamente como na secao anterior, afinal a variavel é simplesmente um atalho para nao ficarmos escrevendo a mesma coisa o tempo todo."
   ]
  },
  {
   "cell_type": "code",
   "execution_count": 20,
   "metadata": {},
   "outputs": [
    {
     "name": "stdout",
     "output_type": "stream",
     "text": [
      "12\n"
     ]
    }
   ],
   "source": [
    "print(ovos + 7)"
   ]
  },
  {
   "cell_type": "code",
   "execution_count": 21,
   "metadata": {},
   "outputs": [
    {
     "name": "stdout",
     "output_type": "stream",
     "text": [
      "Leroy Jenkins\n"
     ]
    }
   ],
   "source": [
    "nome = 'Leroy'\n",
    "print(nome + ' Jenkins')"
   ]
  },
  {
   "cell_type": "markdown",
   "metadata": {},
   "source": [
    "### Data Structures\n",
    "\n",
    "Ha varios tipos de *data structures* em python, como dicionarios, listas, sets, tuples.    \n",
    "por enquanto vimos o que é uma lista, um conjunto ordenado de dados (que nao precisam ter o mesmo tipo)."
   ]
  },
  {
   "cell_type": "code",
   "execution_count": 22,
   "metadata": {},
   "outputs": [],
   "source": [
    "nomes = ['Caio', 'Gabriel', '10', 'Vitao', 'Mario']"
   ]
  },
  {
   "cell_type": "markdown",
   "metadata": {},
   "source": [
    "Para acessar elementos individuais da lista, basta usar a sintaxe nomes[i] para acessar o i-esimo elemento.    \n",
    "Vale lembra que python sempre comeca a conta a partir do 0, entao 'Caio' é o elemento 0, enquanto '10' esta na casa [2], apesar de ser o terceiro elemento:"
   ]
  },
  {
   "cell_type": "code",
   "execution_count": 23,
   "metadata": {},
   "outputs": [
    {
     "name": "stdout",
     "output_type": "stream",
     "text": [
      "Caio\n",
      "10\n"
     ]
    }
   ],
   "source": [
    "print(nomes[0])\n",
    "print(nomes[2])"
   ]
  },
  {
   "cell_type": "markdown",
   "metadata": {},
   "source": [
    "### For Loops:\n",
    "\n",
    "Uma lista é um tipo de estrutura chamada *iterable*, ou seja, que python é capaz de iterar ao longo dos elementos dessa estrutura.\n",
    "\n",
    "Se quisermos acessar todos os elementos da lista 'nomes', podemos acessar elemento por elemento, o que rapidamente se torna impossivel para listas enormes. Ou podemos loopar sobre os elementos dessa lista com um *for loop*:"
   ]
  },
  {
   "cell_type": "code",
   "execution_count": 24,
   "metadata": {},
   "outputs": [
    {
     "name": "stdout",
     "output_type": "stream",
     "text": [
      "1\n",
      "2\n",
      "3\n",
      "4\n",
      "5\n",
      "6\n",
      "7\n",
      "8\n",
      "9\n",
      "10\n"
     ]
    }
   ],
   "source": [
    "lista = [1, 2, 3, 4, 5, 6, 7, 8, 9, 10]\n",
    "\n",
    "for cada_elemento in lista:\n",
    "    print(cada_elemento)"
   ]
  },
  {
   "cell_type": "code",
   "execution_count": 25,
   "metadata": {},
   "outputs": [
    {
     "name": "stdout",
     "output_type": "stream",
     "text": [
      "Caio arrombs\n",
      "Gabriel arrombs\n",
      "10 arrombs\n",
      "Vitao arrombs\n",
      "Mario arrombs\n"
     ]
    }
   ],
   "source": [
    "for pessoa in nomes:\n",
    "    print(pessoa + ' arrombs')"
   ]
  },
  {
   "cell_type": "markdown",
   "metadata": {},
   "source": [
    "*list* é uma keyword in python e portanto nao pode ser usado como nome de variavel (lista esta ok).    \n",
    "*list* tenta transformar algo em uma lista. Para isso, o objeto tem que ser um *iterable*:"
   ]
  },
  {
   "cell_type": "code",
   "execution_count": 26,
   "metadata": {},
   "outputs": [
    {
     "data": {
      "text/plain": [
       "['1', '0']"
      ]
     },
     "execution_count": 26,
     "metadata": {},
     "output_type": "execute_result"
    }
   ],
   "source": [
    "list('10')"
   ]
  },
  {
   "cell_type": "markdown",
   "metadata": {},
   "source": [
    "Isso ocorre porque *strings* tambem sao iterables. Python entende que voce quer iterar em cada *char* da *string*, ou seja, em cada elemento dela. O mesmo nao pode ser feito com numeros, uma vez que eles nao sao iteraveis:"
   ]
  },
  {
   "cell_type": "code",
   "execution_count": 27,
   "metadata": {},
   "outputs": [
    {
     "ename": "TypeError",
     "evalue": "'int' object is not iterable",
     "output_type": "error",
     "traceback": [
      "\u001b[0;31m---------------------------------------------------------------------------\u001b[0m",
      "\u001b[0;31mTypeError\u001b[0m                                 Traceback (most recent call last)",
      "\u001b[0;32m<ipython-input-27-d40930e3bd49>\u001b[0m in \u001b[0;36m<module>\u001b[0;34m\u001b[0m\n\u001b[0;32m----> 1\u001b[0;31m \u001b[0mlist\u001b[0m\u001b[0;34m(\u001b[0m\u001b[0;36m10\u001b[0m\u001b[0;34m)\u001b[0m\u001b[0;34m\u001b[0m\u001b[0;34m\u001b[0m\u001b[0m\n\u001b[0m",
      "\u001b[0;31mTypeError\u001b[0m: 'int' object is not iterable"
     ]
    }
   ],
   "source": [
    "list(10)"
   ]
  },
  {
   "cell_type": "markdown",
   "metadata": {},
   "source": [
    "Jah que string tambem sao iteraveis, elas tambem podem ser objeto de um *for loop*:"
   ]
  },
  {
   "cell_type": "code",
   "execution_count": 28,
   "metadata": {},
   "outputs": [
    {
     "name": "stdout",
     "output_type": "stream",
     "text": [
      "34\n"
     ]
    }
   ],
   "source": [
    "numero_de_letras = 0\n",
    "for letra in 'O rato roeu a roupa do rei de Roma':\n",
    "    numero_de_letras = numero_de_letras + 1\n",
    "    \n",
    "print(numero_de_letras)"
   ]
  },
  {
   "cell_type": "markdown",
   "metadata": {},
   "source": [
    "No bloco acima, criamos uma variavel para contar quantas letras haviam em uma frase, ela foi inicializada com 0, pois ainda nao haviamos comecado a contar.    \n",
    "O *for loop* iterou sobre cada elemento da frase e em cada iteracao, adicionamos 1 ao valor anterior do nosso contador.    \n",
    "Ao final do loop (fora do bloco do *for*) printamos o valor dessa variavel.\n",
    "\n",
    "*Vale notar que os espacos tambem foram contados como letra"
   ]
  },
  {
   "cell_type": "markdown",
   "metadata": {},
   "source": [
    "### Condicionais - if/else:\n",
    "\n",
    "Se quisermos realizar uma acao condicionada a um teste, podemos fazer isso com um teste *if*.    \n",
    "Caso o que esta sendo testado seja verdade, o bloco do *if* sera realizado, caso contrario, nao.\n",
    "\n",
    "Se tivermos uma acao para realizar no caso negativo, podemos complementar o *if* com um bloco *else:*"
   ]
  },
  {
   "cell_type": "code",
   "execution_count": 29,
   "metadata": {},
   "outputs": [
    {
     "name": "stdout",
     "output_type": "stream",
     "text": [
      "Gabriel esta na lista nomes!\n"
     ]
    }
   ],
   "source": [
    "nome = 'Gabriel'\n",
    "if nome in nomes:\n",
    "    print(nome + ' esta na lista nomes!')"
   ]
  },
  {
   "cell_type": "markdown",
   "metadata": {},
   "source": [
    "Testamos se a variavel 'nome' com o valor de 'Gabriel' estava presente na lista de nomes. Isso foi feito com a keyword *in* a mesma usada no *for loop* para olhar os elementos de um iteravel.\n",
    "\n",
    "Como 'Gabriel' esta presente em nomes, o print foi executado."
   ]
  },
  {
   "cell_type": "code",
   "execution_count": 30,
   "metadata": {},
   "outputs": [],
   "source": [
    "nome = 'Gugous'\n",
    "if nome in nomes:\n",
    "    print(nome + ' esta na lista nomes!')"
   ]
  },
  {
   "cell_type": "markdown",
   "metadata": {},
   "source": [
    "'Gugous' nao esta na lista nomes, por isso a celula nao printou nada."
   ]
  },
  {
   "cell_type": "code",
   "execution_count": 31,
   "metadata": {},
   "outputs": [
    {
     "name": "stdout",
     "output_type": "stream",
     "text": [
      "Gugous nao esta na lista!!!\n"
     ]
    }
   ],
   "source": [
    "nome = 'Gugous'\n",
    "if nome in nomes:\n",
    "    print(nome + ' esta na lista nomes!')\n",
    "else:\n",
    "    print(nome + ' nao esta na lista!!!')"
   ]
  },
  {
   "cell_type": "markdown",
   "metadata": {},
   "source": [
    "É possivel colocar um *if-statemtent* dentro de um *for loop* por exemplo, so temos que tomar cuidado com a identacao!!"
   ]
  },
  {
   "cell_type": "code",
   "execution_count": 32,
   "metadata": {},
   "outputs": [
    {
     "name": "stdout",
     "output_type": "stream",
     "text": [
      "26\n"
     ]
    }
   ],
   "source": [
    "numero_de_letras = 0\n",
    "for letra in 'O rato roeu a roupa do rei de Roma':\n",
    "    if letra != ' ':\n",
    "        numero_de_letras = numero_de_letras + 1\n",
    "    \n",
    "print(numero_de_letras)"
   ]
  },
  {
   "cell_type": "markdown",
   "metadata": {},
   "source": [
    "Repetimos aqui nossa conta de letras no trava-linguas. Introduzimos o sinal de diferente (!=) para testar se a letra era na verdade um espaco. Se fosse diferente de um espaco, contamos como letra, caso contrario, nao fazemos nada com aquela letra e simplemente vamos para a outra."
   ]
  },
  {
   "cell_type": "markdown",
   "metadata": {},
   "source": [
    "### Leitura de Arquivos:\n",
    "\n",
    "Vimos que para lermos um arquivo, precisamos abri-lo e depois fecha-lo corretamente para nao corrompe-lo caso haja algum problema na execucao de nosso codigo.    \n",
    "\n",
    "Uma maneira garantida de fazermos isso é com a keyword *with*, que abre um novo ambiente e garante que o arquivo seja fechado corretamente assim que sairmos desse ambiente."
   ]
  },
  {
   "cell_type": "code",
   "execution_count": 33,
   "metadata": {},
   "outputs": [
    {
     "name": "stdout",
     "output_type": "stream",
     "text": [
      "ovos = 1, farinha = 2, leite = 0.5\n",
      "ovos = 2, farinha = 4, leite = 1.0\n",
      "ovos = 3, farinha = 6, leite = 1.5\n",
      "ovos = 4, farinha = 8, leite = 2.0\n",
      "ovos = 5, farinha = 10, leite = 2.5\n",
      "ovos = 6, farinha = 12, leite = 3.0\n",
      "ovos = 7, farinha = 14, leite = 3.5\n",
      "ovos = 8, farinha = 16, leite = 4.0\n",
      "ovos = 9, farinha = 18, leite = 4.5\n",
      "ovos = 10, farinha = 20, leite = 5.0\n"
     ]
    }
   ],
   "source": [
    "arquivo = 'numero_ovos.txt'\n",
    "\n",
    "with open(arquivo, 'r') as f:\n",
    "    for line in f: \n",
    "        ovos = int(line)\n",
    "        farinha = 2 * ovos\n",
    "        leite = ovos / 2\n",
    "        print('ovos = {0}, farinha = {1}, leite = {2}'.format(ovos, farinha, leite))"
   ]
  },
  {
   "cell_type": "markdown",
   "metadata": {},
   "source": [
    "# Exercicios"
   ]
  },
  {
   "cell_type": "markdown",
   "metadata": {},
   "source": [
    "## 1)\n",
    "\n",
    "Na primeira secao, imprimimos o modulo de 10 por cada numero entre 1 e 11:\n",
    "\n",
    "print( 10 % 1 )    \n",
    "print( 10 % 2 )    \n",
    "print( 10 % 3 )    \n",
    "print( 10 % 4 )    \n",
    "print( 10 % 5 )    \n",
    "print( 10 % 6 )    \n",
    "print( 10 % 7 )    \n",
    "print( 10 % 8 )    \n",
    "print( 10 % 9 )    \n",
    "print( 10 % 10 )    \n",
    "print( 10 % 11 )    \n",
    "\n",
    "Como podemos fazer isso com um *for*?\n",
    "\n",
    "Dica: depois de tentar resolver isso usando uma lista, tente implementar uma versao usando a funcao *range*:    \n",
    "https://www.w3schools.com/python/ref_func_range.asp"
   ]
  },
  {
   "cell_type": "code",
   "execution_count": null,
   "metadata": {},
   "outputs": [],
   "source": []
  },
  {
   "cell_type": "code",
   "execution_count": null,
   "metadata": {},
   "outputs": [],
   "source": []
  },
  {
   "cell_type": "markdown",
   "metadata": {},
   "source": [
    "# 2) \n",
    "\n",
    "Descubra e imprima os numeros no arquivo numero_ovos.txt que sao multiplos de 2."
   ]
  },
  {
   "cell_type": "code",
   "execution_count": null,
   "metadata": {},
   "outputs": [],
   "source": []
  },
  {
   "cell_type": "markdown",
   "metadata": {},
   "source": [
    "# 3)\n",
    "\n",
    "Escreva um *for-loop* para descobrir quantas letras 'r' existem na frase: 'O rato roeu a roupa do rei de roma'?"
   ]
  },
  {
   "cell_type": "code",
   "execution_count": null,
   "metadata": {},
   "outputs": [],
   "source": []
  }
 ],
 "metadata": {
  "kernelspec": {
   "display_name": "Python 3",
   "language": "python",
   "name": "python3"
  },
  "language_info": {
   "codemirror_mode": {
    "name": "ipython",
    "version": 3
   },
   "file_extension": ".py",
   "mimetype": "text/x-python",
   "name": "python",
   "nbconvert_exporter": "python",
   "pygments_lexer": "ipython3",
   "version": "3.8.1"
  }
 },
 "nbformat": 4,
 "nbformat_minor": 4
}
